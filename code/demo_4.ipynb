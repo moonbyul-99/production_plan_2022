{
 "cells": [
  {
   "cell_type": "code",
   "execution_count": 1,
   "metadata": {},
   "outputs": [],
   "source": [
    "import numpy as np\n",
    "import pandas as pd\n",
    "import loss_constraint as lc\n",
    "import algo_update as al \n",
    "import matplotlib.pyplot as plt \n",
    "import os\n",
    "from os import walk\n",
    "import data_process_update as dp"
   ]
  },
  {
   "attachments": {},
   "cell_type": "markdown",
   "metadata": {},
   "source": [
    "####  测试   \n",
    "##### 正常运行会在result\\case3\\text生成前10个数据的结果"
   ]
  },
  {
   "cell_type": "code",
   "execution_count": 2,
   "metadata": {},
   "outputs": [],
   "source": [
    "directory = \"test\"\n",
    "parent_dir = r'E:\\python project\\生产调度\\result\\case3'\n",
    "test_path = os.path.join(parent_dir, directory)\n",
    "os.mkdir(test_path) \n",
    "\n",
    "length_set, file_name_set, final_path_set = dp.path_process(r'E:\\python project\\生产调度\\100组数据集\\数据集')\n",
    "\n",
    "param=[]\n",
    "for i in range(0,100):\n",
    "    args = [final_path_set[i],test_path,length_set[i],file_name_set[i],100,100,0.1,0.6,False,None,'cross_op_1','auto_mutation',0.7]\n",
    "    param.append(args)\n"
   ]
  },
  {
   "cell_type": "code",
   "execution_count": 3,
   "metadata": {},
   "outputs": [
    {
     "name": "stdout",
     "output_type": "stream",
     "text": [
      "本地计算机有: 4 核心\n"
     ]
    },
    {
     "name": "stderr",
     "output_type": "stream",
     "text": [
      "任务处理进程: 100%|██████████| 10/10 [01:07<00:00,  5.75s/it]"
     ]
    }
   ],
   "source": [
    "from tqdm import tqdm\n",
    "import multiprocessing as mp\n",
    "num_cores = int(mp.cpu_count())\n",
    "print(\"本地计算机有: \" + str(num_cores) + \" 核心\")\n",
    "\n",
    "pbar = tqdm(total=10)\n",
    "pbar.set_description('任务处理进程')\n",
    "update = lambda *args: pbar.update()\n",
    "pool = mp.Pool(num_cores)\n",
    "for args in param[0:10]:\n",
    "\tpool.apply_async(dp.process, args, callback=update)\n",
    "pool.close()\n",
    "pool.join()\n"
   ]
  },
  {
   "attachments": {},
   "cell_type": "markdown",
   "metadata": {},
   "source": [
    "#### 全量运行"
   ]
  },
  {
   "cell_type": "code",
   "execution_count": 5,
   "metadata": {},
   "outputs": [],
   "source": [
    "length_set, file_name_set, final_path_set = dp.path_process(r'E:\\python project\\生产调度\\100组数据集\\数据集')\n",
    "res_path = r'E:\\python project\\生产调度\\result\\case3'\n",
    "N_set = [min(10*int(length_set[i]/10) + 200,1000) for i in range(0,100)]\n",
    "T_set = [min(20*int(length_set[i]/10) + 400, 5000) for i in range(0,100)]\n",
    "\n",
    "param=[]\n",
    "for i in range(0,100):\n",
    "    args = [final_path_set[i],res_path,length_set[i],file_name_set[i],N_set[i],T_set[i],0.1,0.6,False,None,'cross_op_1','auto_mutation',0.7]\n",
    "    param.append(args)"
   ]
  },
  {
   "cell_type": "code",
   "execution_count": null,
   "metadata": {},
   "outputs": [],
   "source": [
    "from tqdm import tqdm\n",
    "import multiprocessing as mp\n",
    "num_cores = int(mp.cpu_count())\n",
    "print(\"本地计算机有: \" + str(num_cores) + \" 核心\")\n",
    "\n",
    "pbar = tqdm(total=100)\n",
    "pbar.set_description('任务处理进程')\n",
    "update = lambda *args: pbar.update()\n",
    "pool = mp.Pool(num_cores)\n",
    "for args in param:\n",
    "\tpool.apply_async(dp.process, args, callback=update)\n",
    "pool.close()\n",
    "pool.join()"
   ]
  },
  {
   "attachments": {},
   "cell_type": "markdown",
   "metadata": {},
   "source": [
    "#### 结果写入"
   ]
  },
  {
   "cell_type": "code",
   "execution_count": 11,
   "metadata": {},
   "outputs": [],
   "source": [
    "path = r'E:\\python project\\生产调度\\result\\case3'\n",
    "os.chdir(path)\n",
    "\n",
    "# 遍历文件\n",
    "res = []\n",
    "for (dir_path, dir_name, file_name) in walk(path,topdown=True):\n",
    "    res.extend(file_name)\n",
    "\n",
    "# 获取excel文件地址\n",
    "last_name = [i.split('.')[1] for i in res]\n",
    "xlsx_res = []\n",
    "for i in range(0,len(last_name)):\n",
    "    if last_name[i] == 'xlsx':\n",
    "        xlsx_res.append(res[i])\n",
    "\n",
    "length = np.array([eval(i.split('_')[1].split('.')[0]) for i in xlsx_res])\n",
    "id_sort = np.argsort(length)\n",
    "file_name_list = []\n",
    "for i in id_sort:\n",
    "    file_name_list.append(xlsx_res[i])\n",
    "\n",
    "length = length[id_sort]\n",
    "\n",
    "# 拼接全路径\n",
    "final_path = []\n",
    "for file_name in file_name_list:\n",
    "    tmp_final_path = os.path.join(path, file_name)\n",
    "    final_path.append(tmp_final_path)"
   ]
  },
  {
   "cell_type": "code",
   "execution_count": 13,
   "metadata": {},
   "outputs": [],
   "source": [
    "writer = pd.ExcelWriter(r\"E:\\python project\\生产调度\\result\\case3\\case_3_result.xlsx\")\n",
    "\n",
    "for i in range(0,len(final_path)):\n",
    "    path = final_path[i]\n",
    "    df = pd.read_excel(path)\n",
    "\n",
    "    col = []\n",
    "    for j in range(1,df.shape[1]+1):\n",
    "        col.append('Variable ' + str(j))\n",
    "    df.columns = col\n",
    "    df.to_excel(writer,file_name_list[i].split('.')[0],index=False)\n",
    "\n",
    "writer.save()"
   ]
  }
 ],
 "metadata": {
  "kernelspec": {
   "display_name": "Python 3",
   "language": "python",
   "name": "python3"
  },
  "language_info": {
   "codemirror_mode": {
    "name": "ipython",
    "version": 3
   },
   "file_extension": ".py",
   "mimetype": "text/x-python",
   "name": "python",
   "nbconvert_exporter": "python",
   "pygments_lexer": "ipython3",
   "version": "3.8.0 (tags/v3.8.0:fa919fd, Oct 14 2019, 19:37:50) [MSC v.1916 64 bit (AMD64)]"
  },
  "orig_nbformat": 4,
  "vscode": {
   "interpreter": {
    "hash": "4fbdbc13bbf6325566c22e8d9d8ff8f2d480c97b4af4b6ab47cb01e2584972b7"
   }
  }
 },
 "nbformat": 4,
 "nbformat_minor": 2
}
