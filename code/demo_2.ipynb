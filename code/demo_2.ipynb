{
 "cells": [
  {
   "cell_type": "code",
   "execution_count": 1,
   "metadata": {},
   "outputs": [],
   "source": [
    "import numpy as np\n",
    "import pandas as pd\n",
    "import loss_constraint as lc\n",
    "import algorithm as al \n",
    "import matplotlib.pyplot as plt \n",
    "import os\n",
    "from os import walk\n",
    "import data_process as dp"
   ]
  },
  {
   "cell_type": "code",
   "execution_count": 5,
   "metadata": {},
   "outputs": [],
   "source": [
    "'''\n",
    "length, file_name, final_path = dp.path_process('D:/sun_python/PROJECT/生产调度/100组数据集/数据集')\n",
    "left = [0,25,40,50,60,70,75,80,84,88,92,96]\n",
    "right = [25,40,50,60,70,75,80,84,88,92,96,100]\n",
    "L = []\n",
    "FN = []\n",
    "FP = []\n",
    "RP = []\n",
    "for i in range(0,12):\n",
    "    L.append(length[left[i]:right[i]])\n",
    "    FN.append(file_name[left[i]:right[i]])\n",
    "    FP.append(final_path[left[i]:right[i]])\n",
    "    RP.append(os.path.join(r'D:\\sun_python\\PROJECT\\生产调度\\figure\\case_2','output_' + str(i+1) + '.xlsx'))\n",
    "use_seed = False\n",
    "#seed_path = r\"D:\\sun_python\\PROJECT\\生产调度\\figure\\case_1\\out_put_check.xlsx\"\n",
    "seed_path = None\n",
    "param_dict = {}\n",
    "for i in range(0,12):\n",
    "    param_dict[i] = (FP[i],RP[i],L[i],FN[i],use_seed,seed_path)\n",
    "'''"
   ]
  },
  {
   "cell_type": "code",
   "execution_count": 6,
   "metadata": {},
   "outputs": [
    {
     "name": "stdout",
     "output_type": "stream",
     "text": [
      "本地计算机有: 12 核心\n",
      "多进程计算 共消耗: 179.32 秒\n"
     ]
    }
   ],
   "source": [
    "'''\n",
    "import datetime\n",
    "import multiprocessing as mp\n",
    "from tqdm import tqdm \n",
    "if __name__ == '__main__':\n",
    "\n",
    "    start_t = datetime.datetime.now()\n",
    "\n",
    "    num_cores = int(mp.cpu_count())\n",
    "    print(\"本地计算机有: \" + str(num_cores) + \" 核心\")\n",
    "    pool = mp.Pool(12)\n",
    "    \n",
    "'''\n",
    "    #param_dict = {'task1': (FP[0],RP[0],L[0],FN[0],True,seed_path),\n",
    "    #              'task2': (FP[1],RP[1],L[1],FN[1],True,seed_path),\n",
    "    #              'task3': (FP[2],RP[2],L[2],FN[2],True,seed_path),\n",
    "    #              'task4': (FP[3],RP[3],L[3],FN[3],True,seed_path)}\n",
    "'''\n",
    "    results = [pool.apply_async(dp.process, args= param) for param in param_dict.values()]\n",
    "    results = [p.get() for p in results]\n",
    "\n",
    "    end_t = datetime.datetime.now()\n",
    "    elapsed_sec = (end_t - start_t).total_seconds()\n",
    "    print(\"多进程计算 共消耗: \" + \"{:.2f}\".format(elapsed_sec) + \" 秒\")\n",
    "'''"
   ]
  },
  {
   "cell_type": "code",
   "execution_count": 29,
   "metadata": {},
   "outputs": [],
   "source": [
    "#将第一次的两个excel结果写到一起\n",
    "sheet=pd.read_excel(r\"D:\\sun_python\\PROJECT\\生产调度\\figure\\case_1\\output.xlsx\",sheet_name=None)\n",
    "#print(list(sheet.keys()))\n",
    "sheet_res=pd.read_excel(r\"D:\\sun_python\\PROJECT\\生产调度\\figure\\case_1\\output_res.xlsx\",sheet_name=None)\n",
    "#print(list(sheet_res.keys()))\n"
   ]
  },
  {
   "cell_type": "code",
   "execution_count": 31,
   "metadata": {},
   "outputs": [
    {
     "name": "stderr",
     "output_type": "stream",
     "text": [
      "C:\\Users\\Roy\\AppData\\Local\\Temp\\ipykernel_27744\\836724476.py:18: FutureWarning: save is not part of the public API, usage can give unexpected results and will be removed in a future version\n",
      "  writer.save()\n"
     ]
    }
   ],
   "source": [
    "writer = pd.ExcelWriter(r'D:\\sun_python\\PROJECT\\生产调度\\figure\\case_1\\out_put_check.xlsx')\n",
    "for i in range(0,44):\n",
    "    df = sheet[list(sheet.keys())[i]]\n",
    "    col = []\n",
    "    for j in range(1,df.shape[1]+1):\n",
    "        col.append('Variable ' + str(j))\n",
    "    df.columns = col\n",
    "    df.to_excel(writer,list(sheet.keys())[i],index=False)\n",
    "\n",
    "for i in range(44,100):\n",
    "    df = sheet_res[list(sheet_res.keys())[i-44]]\n",
    "    col = []\n",
    "    for j in range(1,df.shape[1]+1):\n",
    "        col.append('Variable ' + str(j))\n",
    "    df.columns = col\n",
    "    df.to_excel(writer,list(sheet_res.keys())[i-44],index=False)\n",
    "\n",
    "writer.save()"
   ]
  },
  {
   "cell_type": "code",
   "execution_count": 2,
   "metadata": {},
   "outputs": [],
   "source": [
    "length_set, file_name_set, final_path_set = dp.path_process('D:/sun_python/PROJECT/生产调度/100组数据集/数据集')\n",
    "seed_parent_set=pd.read_excel(r\"D:\\sun_python\\PROJECT\\生产调度\\figure\\case_1\\out_put_check.xlsx\",sheet_name=None)\n",
    "res_path = r'D:\\sun_python\\PROJECT\\生产调度\\figure\\case_2'\n",
    "use_seed = True\n",
    "#seed_parent = None\n",
    "\n",
    "params = []\n",
    "\n",
    "for i in range(0,100):\n",
    "    seed_parent = seed_parent_set[list(seed_parent_set.keys())[i]].to_numpy()\n",
    "    length = length_set[i]\n",
    "    file_name = file_name_set[i]\n",
    "    data_path = final_path_set[i]\n",
    "    params.append((data_path,res_path,length,file_name,use_seed,seed_parent))"
   ]
  },
  {
   "cell_type": "code",
   "execution_count": 3,
   "metadata": {},
   "outputs": [
    {
     "name": "stderr",
     "output_type": "stream",
     "text": [
      "任务处理进程: 100%|██████████| 100/100 [21:40:11<00:00, 840.21s/it]   "
     ]
    }
   ],
   "source": [
    "from tqdm import tqdm\n",
    "pbar = tqdm(total=100)\n",
    "pbar.set_description('任务处理进程')\n",
    "update = lambda *args: pbar.update()\n",
    "import multiprocessing as mp\n",
    "n_proc = 12\n",
    "pool = mp.Pool(n_proc)\n",
    "for param in params:\n",
    "\tpool.apply_async(dp.process, param, callback=update)\n",
    "pool.close()\n",
    "pool.join()\n"
   ]
  },
  {
   "cell_type": "code",
   "execution_count": 13,
   "metadata": {},
   "outputs": [],
   "source": [
    "path = r\"D:\\sun_python\\PROJECT\\生产调度\\figure\\case_2\"\n",
    "os.chdir(path)\n",
    "\n",
    "# 遍历文件\n",
    "res = []\n",
    "for (dir_path, dir_name, file_name) in walk(path,topdown=True):\n",
    "    res.extend(file_name)\n",
    "\n",
    "# 获取excel文件地址\n",
    "last_name = [i.split('.')[1] for i in res]\n",
    "xlsx_res = []\n",
    "for i in range(0,len(last_name)):\n",
    "    if last_name[i] == 'xlsx':\n",
    "        xlsx_res.append(res[i])\n",
    "xlsx_res\n",
    "\n",
    "length = np.array([eval(i.split('_')[1].split('.')[0]) for i in xlsx_res])\n",
    "id_sort = np.argsort(length)\n",
    "file_name_list = []\n",
    "for i in id_sort:\n",
    "    file_name_list.append(xlsx_res[i])\n",
    "\n",
    "length = length[id_sort]\n",
    "\n",
    "# 拼接全路径\n",
    "final_path = []\n",
    "for file_name in file_name_list:\n",
    "    tmp_final_path = os.path.join(path, file_name)\n",
    "    final_path.append(tmp_final_path)\n"
   ]
  },
  {
   "cell_type": "code",
   "execution_count": 17,
   "metadata": {},
   "outputs": [
    {
     "name": "stderr",
     "output_type": "stream",
     "text": [
      "C:\\Users\\Roy\\AppData\\Local\\Temp\\ipykernel_10276\\1714546714.py:13: FutureWarning: save is not part of the public API, usage can give unexpected results and will be removed in a future version\n",
      "  writer.save()\n"
     ]
    }
   ],
   "source": [
    "writer = pd.ExcelWriter(r\"D:\\sun_python\\PROJECT\\生产调度\\figure\\case_2\\case_2_result.xlsx\")\n",
    "\n",
    "for i in range(0,len(final_path)):\n",
    "    path = final_path[i]\n",
    "    df = pd.read_excel(path)\n",
    "\n",
    "    col = []\n",
    "    for j in range(1,df.shape[1]+1):\n",
    "        col.append('Variable ' + str(j))\n",
    "    df.columns = col\n",
    "    df.to_excel(writer,file_name_list[i].split('.')[0],index=False)\n",
    "\n",
    "writer.save()"
   ]
  }
 ],
 "metadata": {
  "kernelspec": {
   "display_name": "Python 3",
   "language": "python",
   "name": "python3"
  },
  "language_info": {
   "codemirror_mode": {
    "name": "ipython",
    "version": 3
   },
   "file_extension": ".py",
   "mimetype": "text/x-python",
   "name": "python",
   "nbconvert_exporter": "python",
   "pygments_lexer": "ipython3",
   "version": "3.10.8"
  },
  "orig_nbformat": 4,
  "vscode": {
   "interpreter": {
    "hash": "e69a563c7b0c7c1358e2fb01758769eb3fcb03337ca70d1d511a1eba6388c56a"
   }
  }
 },
 "nbformat": 4,
 "nbformat_minor": 2
}
